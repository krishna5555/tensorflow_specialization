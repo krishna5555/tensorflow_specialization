{
  "nbformat": 4,
  "nbformat_minor": 0,
  "metadata": {
    "colab": {
      "name": "Exercise 3 - Question.ipynb",
      "version": "0.3.2",
      "provenance": [],
      "collapsed_sections": []
    },
    "kernelspec": {
      "name": "python3",
      "display_name": "Python 3"
    },
    "accelerator": "TPU"
  },
  "cells": [
    {
      "cell_type": "markdown",
      "metadata": {
        "id": "iQjHqsmTAVLU",
        "colab_type": "text"
      },
      "source": [
        "## Exercise 3\n",
        "In the videos you looked at how you would improve Fashion MNIST using Convolutions. For your exercise see if you can improve MNIST to 99.8% accuracy or more using only a single convolutional layer and a single MaxPooling 2D. You should stop training once the accuracy goes above this amount. It should happen in less than 20 epochs, so it's ok to hard code the number of epochs for training, but your training must end once it hits the above metric. If it doesn't, then you'll need to redesign your layers.\n",
        "\n",
        "I've started the code for you -- you need to finish it!\n",
        "\n",
        "When 99.8% accuracy has been hit, you should print out the string \"Reached 99.8% accuracy so cancelling training!\"\n"
      ]
    },
    {
      "cell_type": "code",
      "metadata": {
        "id": "sfQRyaJWAIdg",
        "colab_type": "code",
        "colab": {
          "base_uri": "https://localhost:8080/",
          "height": 457
        },
        "outputId": "a37f39bd-306e-40a9-b154-b5a0198ae8e4"
      },
      "source": [
        "import tensorflow as tf\n",
        "\n",
        "# YOUR CODE STARTS HERE\n",
        "class Callbackclass(tf.keras.callbacks.Callback):\n",
        "  def on_epoch_end(self,epoch,logs={}):\n",
        "    if(logs.get(\"acc\")>=0.998):\n",
        "      print(\"Reached 99.8% accuracy so cancelling training!\")\n",
        "      self.model.stop_training=True\n",
        "# YOUR CODE ENDS HERE\n",
        "\n",
        "mnist = tf.keras.datasets.mnist\n",
        "(training_images, training_labels), (test_images, test_labels) = mnist.load_data()\n",
        "\n",
        "# YOUR CODE STARTS HERE\n",
        "callbacks=Callbackclass()\n",
        "training_images=training_images.reshape(60000,28,28,1)\n",
        "training_images=training_images/255\n",
        "test_images=test_images.reshape(10000,28,28,1)\n",
        "test_images=test_images/255\n",
        "# YOUR CODE ENDS HERE\n",
        "\n",
        "model = tf.keras.models.Sequential([\n",
        "    # YOUR CODE STARTS HERE\n",
        "    tf.keras.layers.Conv2D(32,(3,3),activation=\"relu\",input_shape=(28,28,1)),\n",
        "    tf.keras.layers.MaxPooling2D(2,2),\n",
        "    tf.keras.layers.Conv2D(32,(3,3),activation=\"relu\"),\n",
        "    tf.keras.layers.MaxPooling2D(2,2),\n",
        "    tf.keras.layers.Flatten(),\n",
        "    tf.keras.layers.Dense(128,activation=\"relu\"),\n",
        "    tf.keras.layers.Dense(10,activation=\"softmax\")\n",
        "    # YOUR CODE ENDS HERE\n",
        "])\n",
        "\n",
        "# YOUR CODE STARTS HERE\n",
        "model.compile(optimizer=\"adam\",loss=\"sparse_categorical_crossentropy\",metrics=[\"accuracy\"])\n",
        "model.fit(training_images,training_labels,epochs=20,callbacks=[callbacks])\n",
        "test_loss,test_accuracy=model.evaluate(test_images,test_labels)\n",
        "print(test_accuracy)\n",
        "# YOUR CODE ENDS HERE\n",
        "\n"
      ],
      "execution_count": 2,
      "outputs": [
        {
          "output_type": "stream",
          "text": [
            "Epoch 1/20\n",
            "60000/60000 [==============================] - 49s 824us/sample - loss: 0.1429 - acc: 0.9564\n",
            "Epoch 2/20\n",
            "60000/60000 [==============================] - 49s 817us/sample - loss: 0.0445 - acc: 0.9859\n",
            "Epoch 3/20\n",
            "60000/60000 [==============================] - 49s 813us/sample - loss: 0.0305 - acc: 0.9905\n",
            "Epoch 4/20\n",
            "60000/60000 [==============================] - 49s 819us/sample - loss: 0.0229 - acc: 0.9929\n",
            "Epoch 5/20\n",
            "60000/60000 [==============================] - 49s 817us/sample - loss: 0.0173 - acc: 0.9942\n",
            "Epoch 6/20\n",
            "60000/60000 [==============================] - 49s 809us/sample - loss: 0.0138 - acc: 0.9953\n",
            "Epoch 7/20\n",
            "60000/60000 [==============================] - 47s 786us/sample - loss: 0.0108 - acc: 0.9965\n",
            "Epoch 8/20\n",
            "60000/60000 [==============================] - 47s 783us/sample - loss: 0.0090 - acc: 0.9969\n",
            "Epoch 9/20\n",
            "60000/60000 [==============================] - 47s 790us/sample - loss: 0.0074 - acc: 0.9976\n",
            "Epoch 10/20\n",
            "60000/60000 [==============================] - 47s 786us/sample - loss: 0.0071 - acc: 0.9977\n",
            "Epoch 11/20\n",
            "59936/60000 [============================>.] - ETA: 0s - loss: 0.0053 - acc: 0.9982Reached 99.8% accuracy so cancelling training!\n",
            "60000/60000 [==============================] - 48s 794us/sample - loss: 0.0053 - acc: 0.9981\n",
            "10000/10000 [==============================] - 3s 262us/sample - loss: 0.0382 - acc: 0.9914\n",
            "0.9914\n"
          ],
          "name": "stdout"
        }
      ]
    },
    {
      "cell_type": "code",
      "metadata": {
        "id": "agApa7rhJLDd",
        "colab_type": "code",
        "colab": {}
      },
      "source": [
        ""
      ],
      "execution_count": 0,
      "outputs": []
    }
  ]
}